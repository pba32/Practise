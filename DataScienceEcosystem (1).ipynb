{
 "cells": [
  {
   "cell_type": "markdown",
   "id": "8c24180c-86b0-4198-81b6-b88d74805cd3",
   "metadata": {},
   "source": [
    "#Data Science Tools and Ecosystem"
   ]
  },
  {
   "cell_type": "markdown",
   "id": "c18d3bb4-7e05-4d8c-b855-b6c759a12f73",
   "metadata": {},
   "source": [
    "In this notebook, Data Science Tools and Ecosystem are summarized."
   ]
  },
  {
   "cell_type": "markdown",
   "id": "6efdb63d-6992-4b8f-9156-03544b4de7ae",
   "metadata": {},
   "source": [
    "**Objectives:**\n",
    "* Popular languages that Data Scientists use\n",
    "*  Commonly used libraries used by Data Scientists\n",
    "*  Examples of evaluating arithmetic expressions in Python\n"
   ]
  },
  {
   "cell_type": "markdown",
   "id": "9bc1ae6c-e76c-468f-92f5-3826f2b02f91",
   "metadata": {},
   "source": [
    "Some of the popular languages that Data Scientists use are:\n",
    "1. Python\n",
    "2. R\n",
    "3. C++"
   ]
  },
  {
   "cell_type": "markdown",
   "id": "c6cddc74-5bf6-45c0-8ea7-de01e022d855",
   "metadata": {},
   "source": [
    "Some of the commonly used libraries used by Data Scientists include:\n",
    "1. Ggplot\n",
    "2. Scikit-learn\n",
    "3. Matplotlib\n",
    "4. Pandas\n",
    "5. Numpy\n",
    "6. Seaborn"
   ]
  },
  {
   "cell_type": "markdown",
   "id": "955d5c4b-b0de-45d3-8c38-65c6379ce513",
   "metadata": {},
   "source": [
    "Below are a few examples of evaluating arithmetic expressions in Python:\n",
    "1. Arithmetic (2+2)\n",
    "2. Subtraction (2-2)\n",
    "3. Multiplication (2*2)\n",
    "4. Float Division (2//2)\n",
    "5. Integer Division (2/2)\n",
    "6. Exponentiation (2**2)"
   ]
  },
  {
   "cell_type": "code",
   "execution_count": 5,
   "id": "d2e022d0-6f63-4608-923f-746555ec0562",
   "metadata": {},
   "outputs": [
    {
     "data": {
      "text/plain": [
       "17"
      ]
     },
     "execution_count": 5,
     "metadata": {},
     "output_type": "execute_result"
    }
   ],
   "source": [
    "(3*4)+5"
   ]
  },
  {
   "cell_type": "markdown",
   "id": "d9128426-85b5-4c08-af72-745eab268fed",
   "metadata": {},
   "source": [
    "-----"
   ]
  },
  {
   "cell_type": "markdown",
   "id": "b637b66a-6240-40c2-a340-5c5e90d367b3",
   "metadata": {},
   "source": [
    "This will convert 200 minutes to hours by diving by 60"
   ]
  },
  {
   "cell_type": "code",
   "execution_count": 7,
   "id": "f643df45-d9f5-47d1-9b82-18835358ec01",
   "metadata": {},
   "outputs": [
    {
     "data": {
      "text/plain": [
       "3.3333333333333335"
      ]
     },
     "execution_count": 7,
     "metadata": {},
     "output_type": "execute_result"
    }
   ],
   "source": [
    "200/60"
   ]
  },
  {
   "cell_type": "markdown",
   "id": "2a4ac25c-db28-4fd0-a9ed-e431073f56c6",
   "metadata": {},
   "source": [
    "##Author\n",
    "\n",
    "PB"
   ]
  },
  {
   "cell_type": "code",
   "execution_count": null,
   "id": "f32912c8-44ae-478d-8fab-741160cd5a26",
   "metadata": {},
   "outputs": [],
   "source": []
  }
 ],
 "metadata": {
  "kernelspec": {
   "display_name": "Python 3 (ipykernel)",
   "language": "python",
   "name": "python3"
  },
  "language_info": {
   "codemirror_mode": {
    "name": "ipython",
    "version": 3
   },
   "file_extension": ".py",
   "mimetype": "text/x-python",
   "name": "python",
   "nbconvert_exporter": "python",
   "pygments_lexer": "ipython3",
   "version": "3.11.7"
  }
 },
 "nbformat": 4,
 "nbformat_minor": 5
}
